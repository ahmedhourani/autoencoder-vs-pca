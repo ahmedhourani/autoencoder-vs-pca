{
 "cells": [
  {
   "cell_type": "markdown",
   "id": "cb20ab15",
   "metadata": {},
   "source": [
    "### imports"
   ]
  },
  {
   "cell_type": "code",
   "execution_count": 1,
   "id": "1fbe02bc",
   "metadata": {},
   "outputs": [],
   "source": [
    "import numpy as np\n",
    "import pandas as pd\n",
    "from keras.models import Sequential\n",
    "from keras.layers import Dense\n",
    "from sklearn.datasets import load_digits\n",
    "from sklearn.decomposition import PCA\n",
    "import matplotlib.pyplot as plt\n",
    "from sklearn.metrics import mean_squared_error\n",
    "from sklearn.preprocessing import MinMaxScaler\n",
    "from sklearn.linear_model import SGDClassifier\n",
    "from sklearn.utils import shuffle\n",
    "from scipy.stats import pearsonr\n",
    "\n",
    "from sklearn.linear_model import Ridge"
   ]
  },
  {
   "cell_type": "markdown",
   "id": "6aba82b4",
   "metadata": {},
   "source": [
    "### load MNIST dataset"
   ]
  },
  {
   "cell_type": "code",
   "execution_count": 2,
   "id": "724c3eba",
   "metadata": {},
   "outputs": [],
   "source": [
    "data = load_digits()\n",
    "x,y = data['data'], data['target']"
   ]
  },
  {
   "cell_type": "markdown",
   "id": "dabdf893",
   "metadata": {},
   "source": [
    "1797 images by 64 pixels"
   ]
  },
  {
   "cell_type": "code",
   "execution_count": 3,
   "id": "b3945326",
   "metadata": {},
   "outputs": [
    {
     "data": {
      "text/plain": [
       "((1797, 64), (1797,))"
      ]
     },
     "execution_count": 3,
     "metadata": {},
     "output_type": "execute_result"
    }
   ],
   "source": [
    "x.shape, y.shape"
   ]
  },
  {
   "cell_type": "markdown",
   "id": "14ef60d2",
   "metadata": {},
   "source": [
    "pixel values are between 0 and 16"
   ]
  },
  {
   "cell_type": "code",
   "execution_count": 4,
   "id": "c1ab7e47",
   "metadata": {},
   "outputs": [
    {
     "data": {
      "text/plain": [
       "(0.0, 16.0)"
      ]
     },
     "execution_count": 4,
     "metadata": {},
     "output_type": "execute_result"
    }
   ],
   "source": [
    "x.min(), x.max()"
   ]
  },
  {
   "cell_type": "markdown",
   "id": "b632abba",
   "metadata": {},
   "source": [
    "### build the and fit the autoencoder neural network"
   ]
  },
  {
   "cell_type": "code",
   "execution_count": 5,
   "id": "812fdf39",
   "metadata": {},
   "outputs": [
    {
     "name": "stdout",
     "output_type": "stream",
     "text": [
      "Epoch 1/100\n",
      "60/60 [==============================] - 1s 1ms/step - loss: 39.6440 - accuracy: 0.0161\n",
      "Epoch 2/100\n",
      "60/60 [==============================] - 0s 1ms/step - loss: 23.1264 - accuracy: 0.1191\n",
      "Epoch 3/100\n",
      "60/60 [==============================] - 0s 1ms/step - loss: 18.7786 - accuracy: 0.1119\n",
      "Epoch 4/100\n",
      "60/60 [==============================] - 0s 2ms/step - loss: 16.2663 - accuracy: 0.0863\n",
      "Epoch 5/100\n",
      "60/60 [==============================] - 0s 2ms/step - loss: 13.7089 - accuracy: 0.0874\n",
      "Epoch 6/100\n",
      "60/60 [==============================] - 0s 2ms/step - loss: 12.1026 - accuracy: 0.0979\n",
      "Epoch 7/100\n",
      "60/60 [==============================] - 0s 2ms/step - loss: 11.1522 - accuracy: 0.1113\n",
      "Epoch 8/100\n",
      "60/60 [==============================] - 0s 2ms/step - loss: 10.3093 - accuracy: 0.1191\n",
      "Epoch 9/100\n",
      "60/60 [==============================] - 0s 2ms/step - loss: 9.6576 - accuracy: 0.1157\n",
      "Epoch 10/100\n",
      "60/60 [==============================] - 0s 2ms/step - loss: 9.1457 - accuracy: 0.1130\n",
      "Epoch 11/100\n",
      "60/60 [==============================] - 0s 2ms/step - loss: 8.7712 - accuracy: 0.1096\n",
      "Epoch 12/100\n",
      "60/60 [==============================] - 0s 2ms/step - loss: 8.4992 - accuracy: 0.1080\n",
      "Epoch 13/100\n",
      "60/60 [==============================] - 0s 2ms/step - loss: 8.3184 - accuracy: 0.1080\n",
      "Epoch 14/100\n",
      "60/60 [==============================] - 0s 2ms/step - loss: 8.1579 - accuracy: 0.1057\n",
      "Epoch 15/100\n",
      "60/60 [==============================] - 0s 2ms/step - loss: 8.0205 - accuracy: 0.1135\n",
      "Epoch 16/100\n",
      "60/60 [==============================] - 0s 2ms/step - loss: 7.9171 - accuracy: 0.1063\n",
      "Epoch 17/100\n",
      "60/60 [==============================] - 0s 2ms/step - loss: 7.8197 - accuracy: 0.1124\n",
      "Epoch 18/100\n",
      "60/60 [==============================] - 0s 2ms/step - loss: 7.7159 - accuracy: 0.1174\n",
      "Epoch 19/100\n",
      "60/60 [==============================] - 0s 2ms/step - loss: 7.6248 - accuracy: 0.1247\n",
      "Epoch 20/100\n",
      "60/60 [==============================] - 0s 2ms/step - loss: 7.5385 - accuracy: 0.1091\n",
      "Epoch 21/100\n",
      "60/60 [==============================] - 0s 2ms/step - loss: 7.4586 - accuracy: 0.1241\n",
      "Epoch 22/100\n",
      "60/60 [==============================] - 0s 2ms/step - loss: 7.3911 - accuracy: 0.1219\n",
      "Epoch 23/100\n",
      "60/60 [==============================] - 0s 2ms/step - loss: 7.3290 - accuracy: 0.1224\n",
      "Epoch 24/100\n",
      "60/60 [==============================] - 0s 2ms/step - loss: 7.2592 - accuracy: 0.1235\n",
      "Epoch 25/100\n",
      "60/60 [==============================] - 0s 2ms/step - loss: 7.2072 - accuracy: 0.1196\n",
      "Epoch 26/100\n",
      "60/60 [==============================] - 0s 2ms/step - loss: 7.1630 - accuracy: 0.1157\n",
      "Epoch 27/100\n",
      "60/60 [==============================] - 0s 2ms/step - loss: 7.1264 - accuracy: 0.1219\n",
      "Epoch 28/100\n",
      "60/60 [==============================] - 0s 2ms/step - loss: 7.0832 - accuracy: 0.1252\n",
      "Epoch 29/100\n",
      "60/60 [==============================] - 0s 2ms/step - loss: 7.0495 - accuracy: 0.1208\n",
      "Epoch 30/100\n",
      "60/60 [==============================] - 0s 2ms/step - loss: 7.0277 - accuracy: 0.1157\n",
      "Epoch 31/100\n",
      "60/60 [==============================] - 0s 1ms/step - loss: 6.9917 - accuracy: 0.1141\n",
      "Epoch 32/100\n",
      "60/60 [==============================] - 0s 2ms/step - loss: 6.9635 - accuracy: 0.1219\n",
      "Epoch 33/100\n",
      "60/60 [==============================] - 0s 2ms/step - loss: 6.9268 - accuracy: 0.1174\n",
      "Epoch 34/100\n",
      "60/60 [==============================] - 0s 2ms/step - loss: 6.9060 - accuracy: 0.1113\n",
      "Epoch 35/100\n",
      "60/60 [==============================] - 0s 2ms/step - loss: 6.9024 - accuracy: 0.1235\n",
      "Epoch 36/100\n",
      "60/60 [==============================] - 0s 2ms/step - loss: 6.8671 - accuracy: 0.1157\n",
      "Epoch 37/100\n",
      "60/60 [==============================] - 0s 2ms/step - loss: 6.8495 - accuracy: 0.1280\n",
      "Epoch 38/100\n",
      "60/60 [==============================] - 0s 2ms/step - loss: 6.8410 - accuracy: 0.1202\n",
      "Epoch 39/100\n",
      "60/60 [==============================] - 0s 2ms/step - loss: 6.8171 - accuracy: 0.1174\n",
      "Epoch 40/100\n",
      "60/60 [==============================] - 0s 2ms/step - loss: 6.8139 - accuracy: 0.1208\n",
      "Epoch 41/100\n",
      "60/60 [==============================] - 0s 2ms/step - loss: 6.7871 - accuracy: 0.1191\n",
      "Epoch 42/100\n",
      "60/60 [==============================] - 0s 2ms/step - loss: 6.7985 - accuracy: 0.1157\n",
      "Epoch 43/100\n",
      "60/60 [==============================] - 0s 2ms/step - loss: 6.7741 - accuracy: 0.1180\n",
      "Epoch 44/100\n",
      "60/60 [==============================] - 0s 2ms/step - loss: 6.7582 - accuracy: 0.1230\n",
      "Epoch 45/100\n",
      "60/60 [==============================] - 0s 2ms/step - loss: 6.7465 - accuracy: 0.1185\n",
      "Epoch 46/100\n",
      "60/60 [==============================] - 0s 2ms/step - loss: 6.7292 - accuracy: 0.1247\n",
      "Epoch 47/100\n",
      "60/60 [==============================] - 0s 2ms/step - loss: 6.7321 - accuracy: 0.1174\n",
      "Epoch 48/100\n",
      "60/60 [==============================] - 0s 2ms/step - loss: 6.7189 - accuracy: 0.1235\n",
      "Epoch 49/100\n",
      "60/60 [==============================] - 0s 2ms/step - loss: 6.7038 - accuracy: 0.1163\n",
      "Epoch 50/100\n",
      "60/60 [==============================] - 0s 2ms/step - loss: 6.7032 - accuracy: 0.1280\n",
      "Epoch 51/100\n",
      "60/60 [==============================] - 0s 2ms/step - loss: 6.6859 - accuracy: 0.1185\n",
      "Epoch 52/100\n",
      "60/60 [==============================] - 0s 2ms/step - loss: 6.6792 - accuracy: 0.1185\n",
      "Epoch 53/100\n",
      "60/60 [==============================] - 0s 2ms/step - loss: 6.6722 - accuracy: 0.1157\n",
      "Epoch 54/100\n",
      "60/60 [==============================] - 0s 1ms/step - loss: 6.6700 - accuracy: 0.1191\n",
      "Epoch 55/100\n",
      "60/60 [==============================] - 0s 1ms/step - loss: 6.6542 - accuracy: 0.1157\n",
      "Epoch 56/100\n",
      "60/60 [==============================] - 0s 1ms/step - loss: 6.6613 - accuracy: 0.1230\n",
      "Epoch 57/100\n",
      "60/60 [==============================] - 0s 1ms/step - loss: 6.6717 - accuracy: 0.1247\n",
      "Epoch 58/100\n",
      "60/60 [==============================] - 0s 2ms/step - loss: 6.6403 - accuracy: 0.1146\n",
      "Epoch 59/100\n",
      "60/60 [==============================] - 0s 2ms/step - loss: 6.6454 - accuracy: 0.1202\n",
      "Epoch 60/100\n",
      "60/60 [==============================] - 0s 1ms/step - loss: 6.6413 - accuracy: 0.1258\n",
      "Epoch 61/100\n",
      "60/60 [==============================] - 0s 2ms/step - loss: 6.6197 - accuracy: 0.1152\n",
      "Epoch 62/100\n",
      "60/60 [==============================] - 0s 2ms/step - loss: 6.6158 - accuracy: 0.1135\n",
      "Epoch 63/100\n",
      "60/60 [==============================] - 0s 1ms/step - loss: 6.6216 - accuracy: 0.1213\n",
      "Epoch 64/100\n",
      "60/60 [==============================] - 0s 1ms/step - loss: 6.6262 - accuracy: 0.1258\n",
      "Epoch 65/100\n",
      "60/60 [==============================] - 0s 1ms/step - loss: 6.6160 - accuracy: 0.1102\n",
      "Epoch 66/100\n",
      "60/60 [==============================] - 0s 2ms/step - loss: 6.6107 - accuracy: 0.1196\n",
      "Epoch 67/100\n",
      "60/60 [==============================] - 0s 2ms/step - loss: 6.6066 - accuracy: 0.1196\n",
      "Epoch 68/100\n",
      "60/60 [==============================] - 0s 1ms/step - loss: 6.6090 - accuracy: 0.1202\n",
      "Epoch 69/100\n",
      "60/60 [==============================] - 0s 2ms/step - loss: 6.5938 - accuracy: 0.1185\n",
      "Epoch 70/100\n",
      "60/60 [==============================] - 0s 1ms/step - loss: 6.6002 - accuracy: 0.1219\n",
      "Epoch 71/100\n",
      "60/60 [==============================] - 0s 2ms/step - loss: 6.6007 - accuracy: 0.1180\n",
      "Epoch 72/100\n",
      "60/60 [==============================] - 0s 2ms/step - loss: 6.5984 - accuracy: 0.1208\n",
      "Epoch 73/100\n",
      "60/60 [==============================] - 0s 1ms/step - loss: 6.5839 - accuracy: 0.1224\n",
      "Epoch 74/100\n",
      "60/60 [==============================] - 0s 1ms/step - loss: 6.5915 - accuracy: 0.1208\n",
      "Epoch 75/100\n",
      "60/60 [==============================] - 0s 1ms/step - loss: 6.5957 - accuracy: 0.1224\n",
      "Epoch 76/100\n",
      "60/60 [==============================] - 0s 1ms/step - loss: 6.5895 - accuracy: 0.1196\n",
      "Epoch 77/100\n",
      "60/60 [==============================] - 0s 1ms/step - loss: 6.5716 - accuracy: 0.1180\n",
      "Epoch 78/100\n",
      "60/60 [==============================] - 0s 1ms/step - loss: 6.5766 - accuracy: 0.1146\n",
      "Epoch 79/100\n",
      "60/60 [==============================] - 0s 1ms/step - loss: 6.5840 - accuracy: 0.1196\n",
      "Epoch 80/100\n",
      "60/60 [==============================] - 0s 1ms/step - loss: 6.5655 - accuracy: 0.1191\n",
      "Epoch 81/100\n",
      "60/60 [==============================] - 0s 2ms/step - loss: 6.5767 - accuracy: 0.1169\n",
      "Epoch 82/100\n"
     ]
    },
    {
     "name": "stdout",
     "output_type": "stream",
     "text": [
      "60/60 [==============================] - 0s 1ms/step - loss: 6.5625 - accuracy: 0.1258\n",
      "Epoch 83/100\n",
      "60/60 [==============================] - 0s 2ms/step - loss: 6.5696 - accuracy: 0.1247\n",
      "Epoch 84/100\n",
      "60/60 [==============================] - 0s 2ms/step - loss: 6.5624 - accuracy: 0.1269\n",
      "Epoch 85/100\n",
      "60/60 [==============================] - 0s 2ms/step - loss: 6.5619 - accuracy: 0.1174\n",
      "Epoch 86/100\n",
      "60/60 [==============================] - 0s 2ms/step - loss: 6.5679 - accuracy: 0.1152\n",
      "Epoch 87/100\n",
      "60/60 [==============================] - 0s 2ms/step - loss: 6.5569 - accuracy: 0.1196\n",
      "Epoch 88/100\n",
      "60/60 [==============================] - 0s 2ms/step - loss: 6.5655 - accuracy: 0.1146\n",
      "Epoch 89/100\n",
      "60/60 [==============================] - 0s 2ms/step - loss: 6.5549 - accuracy: 0.1196\n",
      "Epoch 90/100\n",
      "60/60 [==============================] - 0s 2ms/step - loss: 6.5475 - accuracy: 0.1169\n",
      "Epoch 91/100\n",
      "60/60 [==============================] - 0s 1ms/step - loss: 6.5517 - accuracy: 0.1263\n",
      "Epoch 92/100\n",
      "60/60 [==============================] - 0s 1ms/step - loss: 6.5570 - accuracy: 0.1196\n",
      "Epoch 93/100\n",
      "60/60 [==============================] - 0s 1ms/step - loss: 6.5496 - accuracy: 0.1224\n",
      "Epoch 94/100\n",
      "60/60 [==============================] - 0s 2ms/step - loss: 6.5544 - accuracy: 0.1124\n",
      "Epoch 95/100\n",
      "60/60 [==============================] - 0s 2ms/step - loss: 6.5375 - accuracy: 0.1213\n",
      "Epoch 96/100\n",
      "60/60 [==============================] - 0s 2ms/step - loss: 6.5396 - accuracy: 0.1230\n",
      "Epoch 97/100\n",
      "60/60 [==============================] - 0s 2ms/step - loss: 6.5398 - accuracy: 0.1185\n",
      "Epoch 98/100\n",
      "60/60 [==============================] - 0s 2ms/step - loss: 6.5325 - accuracy: 0.1247\n",
      "Epoch 99/100\n",
      "60/60 [==============================] - 0s 2ms/step - loss: 6.5585 - accuracy: 0.1208\n",
      "Epoch 100/100\n",
      "60/60 [==============================] - 0s 2ms/step - loss: 6.5407 - accuracy: 0.1174\n"
     ]
    },
    {
     "data": {
      "text/plain": [
       "<keras.callbacks.History at 0x1373b9bddf0>"
      ]
     },
     "execution_count": 5,
     "metadata": {},
     "output_type": "execute_result"
    }
   ],
   "source": [
    "model = Sequential()\n",
    "\n",
    "model.add(Dense(32, input_dim=64, activation='relu'))\n",
    "model.add(Dense(16, activation='relu'))\n",
    "model.add(Dense(32, activation='relu'))\n",
    "model.add(Dense(64, activation='relu'))\n",
    "\n",
    "model.compile(loss='MSE', optimizer='adam', metrics=['accuracy'])\n",
    "\n",
    "model.fit(x, x, epochs=100, batch_size=30)"
   ]
  },
  {
   "cell_type": "markdown",
   "id": "1357c15a",
   "metadata": {},
   "source": [
    "### evaluate the output using MSE"
   ]
  },
  {
   "cell_type": "code",
   "execution_count": 6,
   "id": "18d63734",
   "metadata": {},
   "outputs": [],
   "source": [
    "# ae stands for auto encoder\n",
    "ae_pred = model.predict(x)"
   ]
  },
  {
   "cell_type": "code",
   "execution_count": 7,
   "id": "8a0efc5a",
   "metadata": {},
   "outputs": [
    {
     "data": {
      "text/plain": [
       "6.514208013529163"
      ]
     },
     "execution_count": 7,
     "metadata": {},
     "output_type": "execute_result"
    }
   ],
   "source": [
    "mean_squared_error(x, ae_pred)"
   ]
  },
  {
   "cell_type": "markdown",
   "id": "b1d41f51",
   "metadata": {},
   "source": [
    "### build a PCA model to compare"
   ]
  },
  {
   "cell_type": "code",
   "execution_count": 8,
   "id": "c114fa80",
   "metadata": {},
   "outputs": [],
   "source": [
    "pca = PCA(n_components=16)\n",
    "\n",
    "pca_latent_features = pca.fit_transform(x)\n",
    "pca_pred = pca_latent_features @ pca.components_"
   ]
  },
  {
   "cell_type": "code",
   "execution_count": 9,
   "id": "8f13b91d",
   "metadata": {},
   "outputs": [
    {
     "data": {
      "text/plain": [
       "(1797, 64)"
      ]
     },
     "execution_count": 9,
     "metadata": {},
     "output_type": "execute_result"
    }
   ],
   "source": [
    "pca_pred.shape"
   ]
  },
  {
   "cell_type": "code",
   "execution_count": 10,
   "id": "9326a7d7",
   "metadata": {},
   "outputs": [
    {
     "data": {
      "text/plain": [
       "44.11100492810492"
      ]
     },
     "execution_count": 10,
     "metadata": {},
     "output_type": "execute_result"
    }
   ],
   "source": [
    "mean_squared_error(x, pca_pred)"
   ]
  },
  {
   "cell_type": "markdown",
   "id": "a70801a1",
   "metadata": {},
   "source": [
    "after reconstruction of the data by both pca and autoencoder, we find that the autocencoder managed to get back the originial image with a lower mean sqaured error\n",
    "\n",
    "PCA MSE: 44.1\n",
    "AE MSE: 9.8"
   ]
  },
  {
   "cell_type": "markdown",
   "id": "c3e0650d",
   "metadata": {},
   "source": [
    "### scale the reconstructed pixel values from 0-16 to 0-1 using Min Max Scaler"
   ]
  },
  {
   "cell_type": "code",
   "execution_count": 11,
   "id": "4317f651",
   "metadata": {},
   "outputs": [
    {
     "data": {
      "text/plain": [
       "(0.0, 1.0, 0.0, 1.0, 0.0, 1.0000000000000002)"
      ]
     },
     "execution_count": 11,
     "metadata": {},
     "output_type": "execute_result"
    }
   ],
   "source": [
    "x = MinMaxScaler().fit_transform(x)\n",
    "ae_pred = MinMaxScaler().fit_transform(ae_pred)\n",
    "pca_pred = MinMaxScaler().fit_transform(pca_pred)\n",
    "\n",
    "x.min(), x.max(), ae_pred.min(), ae_pred.max(), pca_pred.min(), pca_pred.max()"
   ]
  },
  {
   "cell_type": "markdown",
   "id": "f95b0fe9",
   "metadata": {},
   "source": [
    "### visually compare PCA reconstruction with Autoendcoder output\n",
    "the output that the autoencoder yeilds is better than that of the PCA"
   ]
  },
  {
   "cell_type": "code",
   "execution_count": 12,
   "id": "2378611a",
   "metadata": {},
   "outputs": [
    {
     "data": {
      "text/plain": [
       "<Figure size 200x200 with 0 Axes>"
      ]
     },
     "metadata": {},
     "output_type": "display_data"
    },
    {
     "data": {
      "image/png": "[encoded data removed]",
      "text/plain": [
       "<Figure size 640x480 with 3 Axes>"
      ]
     },
     "metadata": {},
     "output_type": "display_data"
    },
    {
     "data": {
      "text/plain": [
       "<Figure size 200x200 with 0 Axes>"
      ]
     },
     "metadata": {},
     "output_type": "display_data"
    },
    {
     "data": {
      "image/png": "[encoded data removed]",
      "text/plain": [
       "<Figure size 640x480 with 3 Axes>"
      ]
     },
     "metadata": {},
     "output_type": "display_data"
    },
    {
     "data": {
      "text/plain": [
       "<Figure size 200x200 with 0 Axes>"
      ]
     },
     "metadata": {},
     "output_type": "display_data"
    },
    {
     "data": {
      "image/png": "[encoded data removed]",
      "text/plain": [
       "<Figure size 640x480 with 3 Axes>"
      ]
     },
     "metadata": {},
     "output_type": "display_data"
    },
    {
     "data": {
      "text/plain": [
       "<Figure size 200x200 with 0 Axes>"
      ]
     },
     "metadata": {},
     "output_type": "display_data"
    },
    {
     "data": {
      "image/png": "[encoded data removed]",
      "text/plain": [
       "<Figure size 640x480 with 3 Axes>"
      ]
     },
     "metadata": {},
     "output_type": "display_data"
    },
    {
     "data": {
      "text/plain": [
       "<Figure size 200x200 with 0 Axes>"
      ]
     },
     "metadata": {},
     "output_type": "display_data"
    },
    {
     "data": {
      "image/png": "[encoded data removed]",
      "text/plain": [
       "<Figure size 640x480 with 3 Axes>"
      ]
     },
     "metadata": {},
     "output_type": "display_data"
    },
    {
     "data": {
      "text/plain": [
       "<Figure size 200x200 with 0 Axes>"
      ]
     },
     "metadata": {},
     "output_type": "display_data"
    },
    {
     "data": {
      "image/png": "[encoded data removed]",
      "text/plain": [
       "<Figure size 640x480 with 3 Axes>"
      ]
     },
     "metadata": {},
     "output_type": "display_data"
    },
    {
     "data": {
      "text/plain": [
       "<Figure size 200x200 with 0 Axes>"
      ]
     },
     "metadata": {},
     "output_type": "display_data"
    },
    {
     "data": {
      "image/png": "[encoded data removed]",
      "text/plain": [
       "<Figure size 640x480 with 3 Axes>"
      ]
     },
     "metadata": {},
     "output_type": "display_data"
    },
    {
     "data": {
      "text/plain": [
       "<Figure size 200x200 with 0 Axes>"
      ]
     },
     "metadata": {},
     "output_type": "display_data"
    },
    {
     "data": {
      "image/png": "[encoded data removed]",
      "text/plain": [
       "<Figure size 640x480 with 3 Axes>"
      ]
     },
     "metadata": {},
     "output_type": "display_data"
    },
    {
     "data": {
      "text/plain": [
       "<Figure size 200x200 with 0 Axes>"
      ]
     },
     "metadata": {},
     "output_type": "display_data"
    },
    {
     "data": {
      "image/png": "[encoded data removed]",
      "text/plain": [
       "<Figure size 640x480 with 3 Axes>"
      ]
     },
     "metadata": {},
     "output_type": "display_data"
    },
    {
     "data": {
      "text/plain": [
       "<Figure size 200x200 with 0 Axes>"
      ]
     },
     "metadata": {},
     "output_type": "display_data"
    },
    {
     "data": {
      "image/png": "[encoded data removed]",
      "text/plain": [
       "<Figure size 640x480 with 3 Axes>"
      ]
     },
     "metadata": {},
     "output_type": "display_data"
    }
   ],
   "source": [
    "for i in range(10):\n",
    "    plt.figure(figsize=(2,2))\n",
    "    f, (ax1, ax2, ax3) = plt.subplots(1, 3, sharey=True)\n",
    "    ax1.imshow(x[i].reshape(8,8), cmap='gray')\n",
    "    ax2.imshow(ae_pred[i].reshape(8,8), cmap='gray')\n",
    "    ax3.imshow(pca_pred[i].reshape(8,8), cmap='gray')\n",
    "    plt.show()"
   ]
  },
  {
   "cell_type": "code",
   "execution_count": 13,
   "id": "8cf213f5",
   "metadata": {},
   "outputs": [
    {
     "data": {
      "text/plain": [
       "(1797, 16)"
      ]
     },
     "execution_count": 13,
     "metadata": {},
     "output_type": "execute_result"
    }
   ],
   "source": [
    "pca_latent_features.shape"
   ]
  },
  {
   "cell_type": "markdown",
   "id": "8a1480aa",
   "metadata": {},
   "source": [
    "### pop the last layers to get the latent features"
   ]
  },
  {
   "cell_type": "code",
   "execution_count": 14,
   "id": "559f99aa",
   "metadata": {},
   "outputs": [],
   "source": [
    "model.pop()\n",
    "model.pop()\n",
    "model.compile(loss='MSE', optimizer='adam', metrics=['accuracy'])"
   ]
  },
  {
   "cell_type": "code",
   "execution_count": 15,
   "id": "68e18912",
   "metadata": {},
   "outputs": [],
   "source": [
    "# autoencoder latent features\n",
    "ae_latent_features = model.predict(x)"
   ]
  },
  {
   "cell_type": "markdown",
   "id": "3093061e",
   "metadata": {},
   "source": [
    "### we will run a regression on both PCA & AE latent features to predict the label on them.\n",
    "we will iterate 100 times for each of the models and store the R-sqaured score"
   ]
  },
  {
   "cell_type": "code",
   "execution_count": 16,
   "id": "48cfddf3",
   "metadata": {},
   "outputs": [],
   "source": [
    "model_inputs = {\n",
    "    'pca': pca_latent_features,\n",
    "    'autoencoders': ae_latent_features\n",
    "}\n",
    "\n",
    "model_outputs = {\n",
    "    'pca': [],\n",
    "    'autoencoders': []\n",
    "}\n",
    "\n",
    "\n",
    "for i in range(100):\n",
    "    for model_name, features in model_inputs.items():\n",
    "        labels = y\n",
    "\n",
    "        features, labels = shuffle(features, labels)\n",
    "\n",
    "        train_len = int(len(labels)*0.7)\n",
    "\n",
    "        x_train = features[:train_len]\n",
    "        y_train = labels[:train_len]\n",
    "        x_test = features[train_len:]\n",
    "        y_test = labels[train_len:]\n",
    "\n",
    "\n",
    "        clf = SGDClassifier(max_iter=1000, tol=1e-3)\n",
    "        clf.fit(x_train, y_train)\n",
    "\n",
    "\n",
    "        lm = Ridge()\n",
    "        lm.fit(x_train, y_train)\n",
    "\n",
    "\n",
    "\n",
    "        model_outputs[model_name] += [clf.score(x_test,y_test)]\n",
    "\n",
    "    "
   ]
  },
  {
   "cell_type": "code",
   "execution_count": 17,
   "id": "848c2f57",
   "metadata": {},
   "outputs": [
    {
     "name": "stdout",
     "output_type": "stream",
     "text": [
      "pca average score 0.93\n",
      "autoencoders average score 0.89\n"
     ]
    }
   ],
   "source": [
    "print(\n",
    "    'pca average score',\n",
    "    round(np.array(model_outputs['pca']).mean(), 2)\n",
    ")\n",
    "\n",
    "print(\n",
    "    'autoencoders average score',\n",
    "    round(np.array(model_outputs['autoencoders']).mean(), 2)\n",
    ")"
   ]
  },
  {
   "cell_type": "markdown",
   "id": "06b7afca",
   "metadata": {},
   "source": [
    "--------------------------------------------------------------------------------------------------------------------\n",
    "for each iteration of the 100 iterations, the ridge regression produces slightly different results. On average, pca permormed better since the R-squared is higher by 0.03. To understand whether is 0.03 is statistically significant, we will visually inspect it using a histogram"
   ]
  },
  {
   "cell_type": "code",
   "execution_count": 18,
   "id": "6a960b35",
   "metadata": {},
   "outputs": [
    {
     "data": {
      "image/png": "[encoded data removed]",
      "text/plain": [
       "<Figure size 640x480 with 1 Axes>"
      ]
     },
     "metadata": {},
     "output_type": "display_data"
    }
   ],
   "source": [
    "plt.hist(model_outputs['pca'], alpha=0.7)\n",
    "plt.hist(model_outputs['autoencoders'], alpha=0.7)\n",
    "plt.legend(['pca','autoencoder'])\n",
    "plt.show()"
   ]
  },
  {
   "cell_type": "markdown",
   "id": "590ad5b4",
   "metadata": {},
   "source": [
    "### PCA clearly has better results, and the predictions using it's features are more stable when compared to the autoencoder"
   ]
  },
  {
   "cell_type": "code",
   "execution_count": null,
   "id": "4716036e",
   "metadata": {},
   "outputs": [],
   "source": []
  }
 ],
 "metadata": {
  "kernelspec": {
   "display_name": "Python 3",
   "language": "python",
   "name": "python3"
  },
  "language_info": {
   "codemirror_mode": {
    "name": "ipython",
    "version": 3
   },
   "file_extension": ".py",
   "mimetype": "text/x-python",
   "name": "python",
   "nbconvert_exporter": "python",
   "pygments_lexer": "ipython3",
   "version": "3.9.6"
  }
 },
 "nbformat": 4,
 "nbformat_minor": 5
}
